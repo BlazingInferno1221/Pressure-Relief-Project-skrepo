{
 "cells": [
  {
   "cell_type": "code",
   "execution_count": null,
   "metadata": {},
   "outputs": [],
   "source": [
    "%run DataProcessing.ipynb"
   ]
  },
  {
   "cell_type": "code",
   "execution_count": null,
   "metadata": {},
   "outputs": [],
   "source": [
    "class SKModel:\n",
    "    def __init__(self, sequence_length = None):\n",
    "        # self.loader = JFLoader(file_path, sequence_length)\n",
    "        self.sequence_length = sequence_length\n",
    "\n",
    "    def skm_load_data(self, file_path):\n",
    "        self.loader = JFLoader(file_path, self.sequence_length)\n",
    "\n",
    "    def skm_train(self):\n",
    "        pass\n",
    "    \n",
    "    def skm_evaluate(self):\n",
    "        pass"
   ]
  }
 ],
 "metadata": {
  "language_info": {
   "name": "python"
  }
 },
 "nbformat": 4,
 "nbformat_minor": 2
}
