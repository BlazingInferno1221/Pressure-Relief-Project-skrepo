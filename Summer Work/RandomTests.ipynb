{
 "cells": [
  {
   "cell_type": "code",
   "execution_count": 17,
   "metadata": {},
   "outputs": [],
   "source": [
    "# import inspect"
   ]
  },
  {
   "cell_type": "code",
   "execution_count": 27,
   "metadata": {},
   "outputs": [
    {
     "name": "stdout",
     "output_type": "stream",
     "text": [
      "False\n",
      "True\n"
     ]
    }
   ],
   "source": [
    "class MyClass:\n",
    "    def __init__(self, myelems):\n",
    "        self.myelems = myelems\n",
    "    def __contains__(self, item):\n",
    "        return item in self.myelems\n",
    "class MyElement:\n",
    "    def __init__(self): pass\n",
    "    def __eq__(self, other):\n",
    "        return NotImplemented\n",
    "    \n",
    "myinstance = MyClass([MyElement()])\n",
    "print(3 in myinstance)\n",
    "print(3 not in myinstance)"
   ]
  },
  {
   "cell_type": "code",
   "execution_count": null,
   "metadata": {},
   "outputs": [],
   "source": [
    "# class MyClass:\n",
    "#     def __init__(self): pass\n",
    "#     def __contains__(self, item):\n",
    "#         return NotImplemented\n",
    "    \n",
    "# myinstance = MyClass()\n",
    "# print(3 in myinstance)\n",
    "# print(3 not in myinstance)"
   ]
  },
  {
   "cell_type": "code",
   "execution_count": null,
   "metadata": {},
   "outputs": [],
   "source": [
    "# class MyClass:\n",
    "#     def __init__(self): pass\n",
    "# class AmbDetector:\n",
    "#     def __init__(self): pass\n",
    "#     def is_ambiguous(self): return False\n",
    "\n",
    "# myinstance = MyClass()\n",
    "# print(myinstance.__eq__(1))\n",
    "# print(str(myinstance))\n",
    "# print(inspect.getmembers(myinstance))\n",
    "# try:\n",
    "#     print(myinstance.is_ambiguous())\n",
    "# except Exception as e:\n",
    "#     print(f\"{type(e)}: {e}\")\n",
    "# print(AmbDetector.is_ambiguous(myinstance))"
   ]
  },
  {
   "cell_type": "code",
   "execution_count": null,
   "metadata": {},
   "outputs": [],
   "source": [
    "# class NotImp:\n",
    "#     def __init__(self, contrarian = False):\n",
    "#         self.contrarian = contrarian\n",
    "#     def __eq__(self, other):\n",
    "#         if other != 3 or self.contrarian:\n",
    "#             return NotImplemented\n",
    "#         return True\n",
    "#     def __ne__(self, other):\n",
    "#         return True\n",
    "#     def __hash__(self):\n",
    "#         return hash(self.contrarian)\n",
    "# class InNotImp:\n",
    "#     def __init__(self, notimps):\n",
    "#         self.notimps = set(notimps)\n",
    "#     def __contains__(self, item):\n",
    "#         return item in self.notimps\n",
    "\n",
    "# notimp = NotImp()\n",
    "# con = NotImp(True)\n",
    "# innotimp = InNotImp([con])\n",
    "# print(notimp in innotimp)\n",
    "# print(notimp not in innotimp)\n",
    "# print(con in innotimp)\n",
    "# print(con not in innotimp)"
   ]
  },
  {
   "cell_type": "code",
   "execution_count": null,
   "metadata": {},
   "outputs": [],
   "source": [
    "# class NotImp:\n",
    "#     def __init__(self, contrarian = False):\n",
    "#         self.contrarian = contrarian\n",
    "#     def __eq__(self, other):\n",
    "#         if other != 3 or self.contrarian:\n",
    "#             return NotImplemented\n",
    "#         return True\n",
    "# notimp = NotImp()\n",
    "# con = NotImp(True)\n",
    "# print(3 in (\"fidj\", 2, con, notimp))"
   ]
  },
  {
   "cell_type": "code",
   "execution_count": null,
   "metadata": {},
   "outputs": [],
   "source": [
    "# print(any((False, NotImplemented, True)))"
   ]
  }
 ],
 "metadata": {
  "kernelspec": {
   "display_name": "Python 3",
   "language": "python",
   "name": "python3"
  },
  "language_info": {
   "codemirror_mode": {
    "name": "ipython",
    "version": 3
   },
   "file_extension": ".py",
   "mimetype": "text/x-python",
   "name": "python",
   "nbconvert_exporter": "python",
   "pygments_lexer": "ipython3",
   "version": "3.12.1"
  }
 },
 "nbformat": 4,
 "nbformat_minor": 2
}
