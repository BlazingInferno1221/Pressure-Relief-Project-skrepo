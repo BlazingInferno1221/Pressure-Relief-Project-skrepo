{
 "cells": [
  {
   "cell_type": "code",
   "execution_count": 1,
   "metadata": {},
   "outputs": [
    {
     "name": "stdout",
     "output_type": "stream",
     "text": [
      "name main not colab\n"
     ]
    }
   ],
   "source": [
    "if __name__ == \"__main__\":\n",
    "    if hasattr(__builtins__,'__IPYTHON__') and ('google.colab' in str(get_ipython())):\n",
    "        from google.colab import drive\n",
    "        drive.mount('/content/drive')\n",
    "        %cd /content/drive/MyDrive/PressureReliefWorkArea/SummerWork/\n",
    "        !ls\n",
    "    else: print('name main not colab')"
   ]
  },
  {
   "cell_type": "code",
   "execution_count": 29,
   "metadata": {},
   "outputs": [
    {
     "name": "stdout",
     "output_type": "stream",
     "text": [
      "__main__\n",
      "name main not colab\n",
      "__main__\n"
     ]
    }
   ],
   "source": [
    "# -n is not working apparently??\n",
    "# %run -n DataProcessing.ipynb"
   ]
  },
  {
   "cell_type": "code",
   "execution_count": null,
   "metadata": {},
   "outputs": [],
   "source": [
    "class SKModel:\n",
    "    def __init__(self, sequence_length = None):\n",
    "        # self.loader = JFLoader(file_path, sequence_length)\n",
    "        self.sequence_length = sequence_length\n",
    "\n",
    "    def skm_load_data(self, file_path):\n",
    "        self.loader = JFLoader(file_path, self.sequence_length)\n",
    "\n",
    "    def skm_train(self):\n",
    "        pass\n",
    "    \n",
    "    def skm_evaluate(self):\n",
    "        pass"
   ]
  }
 ],
 "metadata": {
  "kernelspec": {
   "display_name": "Python 3",
   "language": "python",
   "name": "python3"
  },
  "language_info": {
   "codemirror_mode": {
    "name": "ipython",
    "version": 3
   },
   "file_extension": ".py",
   "mimetype": "text/x-python",
   "name": "python",
   "nbconvert_exporter": "python",
   "pygments_lexer": "ipython3",
   "version": "3.12.1"
  }
 },
 "nbformat": 4,
 "nbformat_minor": 2
}
