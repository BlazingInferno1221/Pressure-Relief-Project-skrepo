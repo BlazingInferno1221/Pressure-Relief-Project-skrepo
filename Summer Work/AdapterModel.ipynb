{
 "cells": [
  {
   "cell_type": "code",
   "execution_count": null,
   "metadata": {},
   "outputs": [],
   "source": [
    "# # no need for this since it has nothing outside classes and functions\n",
    "# print(__name__)\n",
    "# if __name__ == \"__main__\" and hasattr(__builtins__,'__IPYTHON__') and ('google.colab' in str(get_ipython())):\n",
    "#     from google.colab import drive\n",
    "#     drive.mount('/content/drive')\n",
    "#     %cd /content/drive/MyDrive/PressureReliefWorkArea/SummerWork/\n",
    "#     !ls"
   ]
  },
  {
   "cell_type": "code",
   "execution_count": null,
   "metadata": {},
   "outputs": [],
   "source": [
    "%run -n AbstractModel.ipynb\n",
    "# %run -n CNNModel.ipynb"
   ]
  },
  {
   "cell_type": "code",
   "execution_count": null,
   "metadata": {},
   "outputs": [],
   "source": [
    "class SKAdapterModel(SKJFModel):\n",
    "    def __init__(self, sequence_length = None):\n",
    "        super(SKAdapterModel, self).__init__(sequence_length)\n",
    "\n",
    "    def skm_load_data(self, file_path):\n",
    "        self.loader = JFSKLoader(file_path, self.sequence_length)\n",
    "        class_type = self.loader.specifier_values[SKDescriptors.CLASSIFICATION_TYPE_FS]\n",
    "        # assertion\n",
    "        SKDescriptors.validate_class_type(class_type)\n",
    "        # needed definitions\n",
    "        self.class_type = class_type\n",
    "\n",
    "    def skm_load_model(self, file_path):\n",
    "        raise NotImplementedError(f\"SKJFModel.skm_load_model() is an abstract method and should be defined before used.\")\n",
    "\n",
    "    def skm_train(self):\n",
    "        raise NotImplementedError(f\"SKJFModel.skm_train() is an abstract method and should be defined before used.\")\n",
    "\n",
    "    def skm_evaluate(self, show_cm = True):"
   ]
  }
 ],
 "metadata": {
  "language_info": {
   "name": "python"
  }
 },
 "nbformat": 4,
 "nbformat_minor": 2
}
