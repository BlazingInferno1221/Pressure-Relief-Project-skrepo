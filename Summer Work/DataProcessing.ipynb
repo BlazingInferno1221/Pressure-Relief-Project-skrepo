{
 "cells": [
  {
   "cell_type": "code",
   "execution_count": 1,
   "id": "b20374ca",
   "metadata": {},
   "outputs": [],
   "source": [
    "import pandas as pd\n",
    "from sklearn.model_selection import train_test_split\n",
    "from torch.utils.data import Dataset, DataLoader\n",
    "import torch\n",
    "# import torch.nn as nn\n",
    "# import torch.nn.functional as F\n",
    "# import torch.optim as optim\n",
    "\n",
    "# import ipynb\n",
    "# from ipynb.fs.all.HelperFunctions import *\n",
    "%run HelperFunction.ipynb"
   ]
  },
  {
   "attachments": {},
   "cell_type": "markdown",
   "id": "5d837446",
   "metadata": {},
   "source": [
    "This code loads your CSV file, splits the data into a training set and a test set, and creates a DataLoader for each. The DataLoader can be used to iterate through the data in batches, which is useful for training a neural network.\n",
    "\n",
    "You can replace 'yourfile.csv' with the path to your actual file. Also, note that this assumes your CSV file doesn't have a header. If it does, you might need to skip the first row."
   ]
  },
  {
   "cell_type": "code",
   "execution_count": 2,
   "id": "b7bd7f69",
   "metadata": {},
   "outputs": [],
   "source": [
    "class JFSKAccelDataset(Dataset):\n",
    "    def __init__(self, data, labels, sequence_length=10):\n",
    "        self.data = [data[i:i+sequence_length] for i in range(len(data) - sequence_length + 1)]\n",
    "        self.labels = labels[(int)(sequence_length/2) - 1 : len(data) - (sequence_length - (int)(sequence_length/2))]\n",
    "        # change to get the majority\n",
    "        self.sequence_length = sequence_length\n",
    "\n",
    "    def __len__(self):\n",
    "        return len(self.data)\n",
    "\n",
    "    def __getitem__(self, idx):\n",
    "        return self.data[idx].transpose(0, 1), self.labels[idx]  # Transposing the sequence and channel dimensions\n"
   ]
  },
  {
   "cell_type": "code",
   "execution_count": 3,
   "id": "cc4ed681",
   "metadata": {},
   "outputs": [],
   "source": [
    "class JFLoader:\n",
    "    def __init__(self, file_path = None, sequence_length = 10):\n",
    "        assert file_path != None\n",
    "        self.file_path = file_path\n",
    "        self.sequence_length = sequence_length\n",
    "        # Load CSV file\n",
    "        # WORKAREA_PATH = './'\n",
    "        # class_num = 8 ## Although annoying, requiring this be manually adjusted\n",
    "        #     ## to open the file also means that a later instance of this number will be correct\n",
    "        # prev input: WORKAREA_PATH + f'Data/COMBINED_Type5-WithClassNum{class_num}-Freq10-Labeled_Motion-sessions_23-24_Fall.csv'\n",
    "\n",
    "        dataframe = pd.read_csv(file_path)\n",
    "        \n",
    "        # code test file: Data/Week 1/Left then Right/Processed/Type3-Freq10-Labeled_Motion-sessions_2023-08-26_17-25-54.csv\n",
    "        # classifier training file: Data/COMBINED_Type3-Freq10-Labeled_Motion-sessions_23-24_Fall.csv\n",
    "\n",
    "        # Get data and labels from dataframe\n",
    "        self.data = dataframe.iloc[:, :3].values  # x, y, z data\n",
    "        self.labels = dataframe.iloc[:, 3:].values  # labels\n",
    "\n",
    "\n",
    "        # sequence_length = 10\n",
    "\n",
    "        # Split data into training and test sets\n",
    "        self.data_train, self.data_test, self.labels_train, self.labels_test = train_test_split(self.data, self.labels, test_size=0.2, random_state=42)\n",
    "\n",
    "        # Convert data to tensors\n",
    "        self.data_train = torch.tensor(self.data_train, dtype=torch.float32)  \n",
    "        self.data_test = torch.tensor(self.data_test, dtype=torch.float32)\n",
    "\n",
    "        # Convert labels to tensors and get max index (assuming one-hot encoding)\n",
    "        self.labels_train = torch.argmax(torch.tensor(self.labels_train, dtype=torch.float32), dim=1)\n",
    "        self.labels_test = torch.argmax(torch.tensor(self.labels_test, dtype=torch.float32), dim=1)\n",
    "\n",
    "        # Create data loaders\n",
    "        self.train_dataset = JFSKAccelDataset(self.data_train, self.labels_train, self.sequence_length)\n",
    "        self.test_dataset = JFSKAccelDataset(self.data_test, self.labels_test, self.sequence_length)\n",
    "\n",
    "        self.train_dataloader = DataLoader(self.train_dataset, batch_size=64, shuffle=True)\n",
    "        self.test_dataloader = DataLoader(self.test_dataset, batch_size=64, shuffle=False)\n"
   ]
  }
 ],
 "metadata": {
  "kernelspec": {
   "display_name": "Python 3 (ipykernel)",
   "language": "python",
   "name": "python3"
  },
  "language_info": {
   "codemirror_mode": {
    "name": "ipython",
    "version": 3
   },
   "file_extension": ".py",
   "mimetype": "text/x-python",
   "name": "python",
   "nbconvert_exporter": "python",
   "pygments_lexer": "ipython3",
   "version": "3.10.12"
  }
 },
 "nbformat": 4,
 "nbformat_minor": 5
}
